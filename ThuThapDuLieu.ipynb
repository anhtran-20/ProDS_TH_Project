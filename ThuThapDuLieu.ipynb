{
 "cells": [
  {
   "cell_type": "markdown",
   "id": "480171a0",
   "metadata": {},
   "source": [
    "<h1 style=\"text-align: center; background-color:#E9F7EF; font-family:Arial; color:#526085;line-height: 4em\";font-size: 50px;>ĐỒ ÁN THỰC HÀNH - Nhóm 8</h1>\n",
    "</br>\n",
    "<div>Nhóm tìm được bộ dữ liệu về các chuyến bay ở U.S trong 5 năm gần đây. Dưới đây là những thông tin về bước thu thâp dữ liệu.</div>\n",
    "<h2>A. THU THẬP DỮ LIỆU</h2>"
   ]
  },
  {
   "cell_type": "markdown",
   "id": "f97f384e",
   "metadata": {},
   "source": [
    "\n",
    "### 1. Chủ đề\n",
    "- Chủ đề: Flight Delay from January 2017 - July 2022.\n",
    "- Nội dung: Dữ liệu về những chuyến bay bị hoãn chuyến ở U.S.\n",
    "\n",
    "### 2. Sơ lược về dataset\n",
    "\n",
    "a. Nguồn: \n",
    "- Bộ dataset được pubic trên Kaggle.\n",
    "- Chủ bài đăng lấy từ trang web: https://www.transtats.bts.gov/OT_Delay/OT_DelayCause1.asp\n",
    "\n",
    "b. License: \n",
    "- License CC0: Public Domain, cho phép cộng đồng sử dụng.\n",
    "\n",
    "c. Cách thu thập dữ liệu:\n",
    "- Cách chủ bài viết trên Kaggle thu thập: Tải về từ trang web Bureau of Transportation Statistic (BTS).\n",
    "- Dữ liệu được thu thập bởi U.S Department's Bureau of Transportation Statistics, các hãng hàng không cung cấp, do đó các báo cáo thông tin về chất lượng dịch vụ có  thể cung cấp cho người tham gia vận tải đường hàng không."
   ]
  },
  {
   "cell_type": "markdown",
   "id": "c1ba300d",
   "metadata": {},
   "source": [
    "<h1 style=\"text-align: center; background-color:#E9F7EF; font-family:Arial; color:#526085;line-height: 2em\";font-size: 50px;>Xong phần Thu thập dữ liệu</h1>"
   ]
  }
 ],
 "metadata": {
  "kernelspec": {
   "display_name": "Python 3 (ipykernel)",
   "language": "python",
   "name": "python3"
  },
  "language_info": {
   "codemirror_mode": {
    "name": "ipython",
    "version": 3
   },
   "file_extension": ".py",
   "mimetype": "text/x-python",
   "name": "python",
   "nbconvert_exporter": "python",
   "pygments_lexer": "ipython3",
   "version": "3.8.0"
  }
 },
 "nbformat": 4,
 "nbformat_minor": 5
}
