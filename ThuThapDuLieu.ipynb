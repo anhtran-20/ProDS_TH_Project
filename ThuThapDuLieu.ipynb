{
 "cells": [
  {
   "cell_type": "markdown",
   "id": "f97f384e",
   "metadata": {},
   "source": [
    "# LT KHDL - ĐỒ ÁN THỰC HÀNH - Nhóm 8\n",
    "## A. THU THẬP DỮ LIỆU\n",
    "### 1. Chủ đề\n",
    "- Chủ đề: Flight Delay from January 2017 - July 2022.\n",
    "- Nội dung: Dữ liệu về những chuyến bay bị hoãn chuyến ở U.S.\n",
    "\n",
    "### 2. Sơ lược về dataset\n",
    "\n",
    "a. Nguồn: \n",
    "- Bộ dataset được pubic trên Kaggle.\n",
    "- Chủ bài đăng lấy từ trang web: https://www.transtats.bts.gov/OT_Delay/OT_DelayCause1.asp\n",
    "\n",
    "b. License: \n",
    "- License CC0: Public Domain, cho phép cộng đồng sử dụng.\n",
    "\n",
    "c. Cách thu thập dữ liệu:\n",
    "- Dữ liệu được tải về từ trang web Bureau of Transportation Statistic.\n",
    "- Người ta chọn khung thời gian (Period from, to), rồi bấm tải về bộ dữ liệu tương ứng."
   ]
  },
  {
   "cell_type": "code",
   "execution_count": null,
   "id": "2d09647c",
   "metadata": {},
   "outputs": [],
   "source": []
  }
 ],
 "metadata": {
  "kernelspec": {
   "display_name": "Python 3.10.6 64-bit",
   "language": "python",
   "name": "python3"
  },
  "language_info": {
   "codemirror_mode": {
    "name": "ipython",
    "version": 3
   },
   "file_extension": ".py",
   "mimetype": "text/x-python",
   "name": "python",
   "nbconvert_exporter": "python",
   "pygments_lexer": "ipython3",
   "version": "3.10.6"
  },
  "vscode": {
   "interpreter": {
    "hash": "beedbe2faf2f7048d727558d0bc3221e7eba2a0b921cac4d4771b2feb8f74b30"
   }
  }
 },
 "nbformat": 4,
 "nbformat_minor": 5
}
